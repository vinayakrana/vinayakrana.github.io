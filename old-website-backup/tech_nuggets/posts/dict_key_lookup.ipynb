{
 "cells": [
  {
   "cell_type": "markdown",
   "id": "ec517b49",
   "metadata": {},
   "source": [
    "---\n",
    "title: \"Dict Lookup\"\n",
    "description: \"`in dict` vs `in dict.keys()`\"\n",
    "date: 2025-06-27\n",
    "categories: [python, performance, internals]\n",
    "format: html\n",
    "execute: \n",
    "  enabled: True\n",
    "---"
   ]
  },
  {
   "cell_type": "markdown",
   "id": "9713e292",
   "metadata": {},
   "source": [
    "In Python, checking whether a key exists in a dictionary is a common operation. But there's more than one way to write it:\n",
    "\n",
    "```python\n",
    "if key in my_dict: ...\n",
    "if key in my_dict.keys(): ...\n",
    "```"
   ]
  },
  {
   "cell_type": "markdown",
   "id": "15ad07df",
   "metadata": {},
   "source": [
    "At first glance, both seem correct and equivalent. But they are not equal in performance or clarity.\n",
    "\n",
    "In this post, we'll dive into:\n",
    "\n",
    "* The internal differences between the two\n",
    "* The disassembled bytecode\n",
    "* Real-world benchmarks using timeit\n",
    "* Best practices and when it actually matters"
   ]
  },
  {
   "cell_type": "markdown",
   "id": "376f8a0a",
   "metadata": {},
   "source": [
    "Let's compare the bytecode of two functions, one using `in dict` and the other using `in dict.keys()` to see what Python does under the hood.\n"
   ]
  },
  {
   "cell_type": "code",
   "execution_count": 1,
   "id": "2938e382",
   "metadata": {},
   "outputs": [
    {
     "name": "stdout",
     "output_type": "stream",
     "text": [
      "  4           0 LOAD_FAST                1 (x)\n",
      "              2 LOAD_FAST                0 (hmap)\n",
      "              4 CONTAINS_OP              0\n",
      "              6 RETURN_VALUE\n",
      "----------------------------------------\n",
      "  7           0 LOAD_FAST                1 (x)\n",
      "              2 LOAD_FAST                0 (hmap)\n",
      "              4 LOAD_METHOD              0 (keys)\n",
      "              6 CALL_METHOD              0\n",
      "              8 CONTAINS_OP              0\n",
      "             10 RETURN_VALUE\n"
     ]
    }
   ],
   "source": [
    "import dis\n",
    "\n",
    "def direct_lookup(hmap, x):\n",
    "    return x in hmap\n",
    "\n",
    "def keys_lookup(hmap, x):\n",
    "    return x in hmap.keys()\n",
    "\n",
    "dis.dis(direct_lookup)\n",
    "print(\"-\" * 40)\n",
    "dis.dis(keys_lookup)"
   ]
  },
  {
   "cell_type": "markdown",
   "id": "4a9e176c",
   "metadata": {},
   "source": [
    "### `x in hmap`\n",
    "- Directly uses `COMPARE_OP` with `in` on the dictionary\n",
    "- Calls `dict.__contains__`, which is optimized and fast\n",
    "\n",
    "### `x in hmap.keys()`\n",
    "- Calls `.keys()` → creates a `dict_keys` view object\n",
    "- Performs a membership test on the view\n",
    "\n",
    "This adds extra function calls and memory allocation, even though the lookup is still O(1).\n"
   ]
  },
  {
   "cell_type": "markdown",
   "id": "061c257a",
   "metadata": {},
   "source": [
    "Let’s use `timeit` to compare the performance of both lookup styles over 100,000 iterations."
   ]
  },
  {
   "cell_type": "code",
   "execution_count": 2,
   "id": "38506820",
   "metadata": {},
   "outputs": [
    {
     "name": "stdout",
     "output_type": "stream",
     "text": [
      "'x in hmap'       : 0.00363 sec\n",
      "'x in hmap.keys()': 0.00700 sec\n"
     ]
    }
   ],
   "source": [
    "import timeit\n",
    "\n",
    "setup = \"hmap = dict(zip(range(10000), range(10000))); x = 9999\"\n",
    "stmt1 = \"x in hmap\"\n",
    "stmt2 = \"x in hmap.keys()\"\n",
    "\n",
    "time_direct = timeit.timeit(stmt1, setup=setup, number=100_000)\n",
    "time_keys = timeit.timeit(stmt2, setup=setup, number=100_000)\n",
    "\n",
    "print(f\"'x in hmap'       : {time_direct:.5f} sec\")\n",
    "print(f\"'x in hmap.keys()': {time_keys:.5f} sec\")\n"
   ]
  },
  {
   "cell_type": "markdown",
   "id": "fc2c41fc",
   "metadata": {},
   "source": [
    "### Summary\n",
    "\n",
    "| Style               | Performance | Memory | \n",
    "|--------------------|-------------|--------|\n",
    "| `x in dict`         | Fast        | Low    | \n",
    "| `x in dict.keys()`  | Slower      | Higher |\n",
    "\n",
    "### When to Use `.keys()`\n",
    "Use `.keys()` only when you need to iterate over or manipulate the entire view object — not for simple membership tests.\n",
    "\n",
    "---\n",
    "\n",
    "### Why It Matters\n",
    "\n",
    "While the difference is small in absolute terms, understanding Python internals helps write clearer and more efficient code. It also prepares you to debug or optimize larger systems more confidently.\n"
   ]
  }
 ],
 "metadata": {
  "kernelspec": {
   "display_name": "scholarchatbot",
   "language": "python",
   "name": "python3"
  },
  "language_info": {
   "codemirror_mode": {
    "name": "ipython",
    "version": 3
   },
   "file_extension": ".py",
   "mimetype": "text/x-python",
   "name": "python",
   "nbconvert_exporter": "python",
   "pygments_lexer": "ipython3",
   "version": "3.10.2"
  }
 },
 "nbformat": 4,
 "nbformat_minor": 5
}
