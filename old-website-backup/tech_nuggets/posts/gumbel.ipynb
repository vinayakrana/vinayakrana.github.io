{
 "cells": [
  {
   "cell_type": "markdown",
   "id": "33495c40",
   "metadata": {},
   "source": [
    "---\n",
    "title: \"Gumbel Softmax trick\"\n",
    "description: \"A trick to enable gradient-based optimization over discrete choices.\"\n",
    "date: 2025-07-04\n",
    "categories: [deep learning, differentiable programming, reparameterization]\n",
    "format: html\n",
    "execute: \n",
    "  enabled: True\n",
    "---"
   ]
  },
  {
   "cell_type": "markdown",
   "id": "3639c56f",
   "metadata": {},
   "source": [
    "#### Can Neural Networks Learn to Make Hard Choices and Still Be Trained with Backprop?\n",
    "\n",
    "Imagine your model needs to choose one among several categories say, Red, Green, or Blue.\n",
    "The obvious choice? Use argmax or sample from a categorical distribution.\n",
    "But here's the catch: backpropagation doesn't work through discrete decisions.\n",
    "\n",
    "#### So, are we stuck?\n",
    "**Not quite**. Say hello to the **Gumbel-Softmax** trick.<br>\n",
    "You can’t backprop through discrete sampling directly but you can use a continuous relaxation like the Gumbel-Softmax, which approximates categorical sampling in a differentiable way."
   ]
  },
  {
   "cell_type": "markdown",
   "id": "bc3b95cc",
   "metadata": {},
   "source": [
    "#### Why argmax Kills Your Gradients"
   ]
  },
  {
   "cell_type": "markdown",
   "id": "c2a2349d",
   "metadata": {},
   "source": [
    "Backpropagation needs continuous functions. But argmax is not one it’s a discrete, non-differentiable operation.\n",
    "That means if your model makes a hard choice using argmax, the gradient signal hits a wall.\n",
    "\n",
    "Let’s see that in code:"
   ]
  },
  {
   "cell_type": "markdown",
   "id": "f37291f4",
   "metadata": {},
   "source": [
    "```python\n",
    "import torch\n",
    "import torch.nn.functional as F\n",
    "\n",
    "logits = torch.tensor([[2.0, 1.0, 0.1]], requires_grad=True)\n",
    "probs = F.softmax(logits, dim=-1)\n",
    "sample = torch.argmax(probs, dim=-1)\n",
    "\n",
    "loss = sample.float().sum()\n",
    "loss.backward()  #  Throws an error\n",
    "```\n",
    "\n",
    "The call to .backward() fails because gradients can’t flow through argmax it’s not differentiable with respect to logits.\n",
    "The model can’t learn from this signal."
   ]
  },
  {
   "cell_type": "markdown",
   "id": "0742f12c",
   "metadata": {},
   "source": [
    "### The Magic Behind Gumbel-Softmax"
   ]
  },
  {
   "cell_type": "markdown",
   "id": "ede54358",
   "metadata": {},
   "source": [
    "What if, instead of making a hard discrete decision, your model makes a soft approximation one that’s almost one-hot but still differentiable?\n",
    "\n",
    "That’s exactly what the Gumbel-Softmax trick does.\n",
    "It turns the categorical sampling problem into a smooth, trainable operation.\n",
    "\n",
    "Here’s the idea:"
   ]
  },
  {
   "cell_type": "code",
   "execution_count": 1,
   "id": "6533520d",
   "metadata": {},
   "outputs": [],
   "source": [
    "import torch\n",
    "import torch.nn.functional as F\n",
    "\n",
    "def sample_gumbel(shape, eps=1e-20):\n",
    "    U = torch.rand(shape)\n",
    "    return -torch.log(-torch.log(U + eps) + eps)\n",
    "\n",
    "def gumbel_softmax(logits, tau=1.0):\n",
    "    g = sample_gumbel(logits.shape)\n",
    "    return F.softmax((logits + g) / tau, dim=-1)\n"
   ]
  },
  {
   "cell_type": "markdown",
   "id": "e502c15f",
   "metadata": {},
   "source": [
    "* logits are your raw scores (before softmax).\n",
    "\n",
    "* g is Gumbel noise, which injects randomness to simulate sampling.\n",
    "\n",
    "* tau is the temperature a hyperparameter that controls how sharp or soft the final distribution is.\n",
    "\n",
    "* The final output is a differentiable approximation of a one-hot vector.\n",
    "\n",
    "As `τ → 0`, the softmax output becomes almost one-hot, mimicking a discrete choice.\n",
    "As `τ → ∞`, it becomes uniform, meaning the model explores all choices equally."
   ]
  },
  {
   "cell_type": "markdown",
   "id": "4f3b020a",
   "metadata": {},
   "source": [
    "**Visual Example:** Learn to Blend Colors\n",
    "Let’s bring this to life with a colorful example.\n",
    "\n",
    "Imagine your model needs to select one color from a palette Red, Green, or Blue to match a target color like purple 💜.\n",
    "But instead of choosing just one, it learns to blend them softly, using Gumbel-Softmax!"
   ]
  },
  {
   "cell_type": "code",
   "execution_count": 2,
   "id": "6d256703",
   "metadata": {},
   "outputs": [
    {
     "name": "stdout",
     "output_type": "stream",
     "text": [
      "Step 0: Loss = 0.0068\n",
      "Step 10: Loss = 0.0021\n",
      "Step 20: Loss = 0.1645\n",
      "Step 30: Loss = 0.1280\n",
      "Step 40: Loss = 0.0734\n",
      "Step 50: Loss = 0.1265\n",
      "Step 60: Loss = 0.1180\n",
      "Step 70: Loss = 0.1632\n",
      "Step 80: Loss = 0.0632\n",
      "Step 90: Loss = 0.1468\n"
     ]
    }
   ],
   "source": [
    "import torch\n",
    "import torch.nn.functional as F\n",
    "import numpy as np\n",
    "import random\n",
    "\n",
    "torch.manual_seed(42)\n",
    "np.random.seed(42)\n",
    "random.seed(42)\n",
    "\n",
    "palette = torch.tensor([\n",
    "    [1.0, 0.0, 0.0],  # Red\n",
    "    [0.0, 1.0, 0.0],  # Green\n",
    "    [0.0, 0.0, 1.0]   # Blue\n",
    "])\n",
    "\n",
    "logits = torch.nn.Parameter(torch.randn(1, 3))\n",
    "\n",
    "# Target color: Purple (blend of Red + Blue)\n",
    "target = torch.tensor([[0.5, 0.0, 0.5]])\n",
    "\n",
    "opt = torch.optim.Adam([logits], lr=0.1)\n",
    "\n",
    "losses = []\n",
    "for step in range(100):\n",
    "    opt.zero_grad()\n",
    "    probs = gumbel_softmax(logits, tau=0.5)  # Sample a soft blend\n",
    "    color = probs @ palette                  # Weighted sum of RGB\n",
    "    loss = F.mse_loss(color, target)\n",
    "    losses.append(loss.item())\n",
    "    loss.backward()\n",
    "    opt.step()\n",
    "\n",
    "    if step % 10 == 0:\n",
    "        print(f\"Step {step}: Loss = {loss.item():.4f}\")\n"
   ]
  },
  {
   "cell_type": "code",
   "execution_count": 3,
   "id": "6c7501a7",
   "metadata": {},
   "outputs": [
    {
     "data": {
      "image/png": "[encoded data removed]",
      "text/plain": [
       "<Figure size 672x480 with 1 Axes>"
      ]
     },
     "metadata": {
      "image/png": {
       "height": 408,
       "width": 388
      }
     },
     "output_type": "display_data"
    }
   ],
   "source": [
    "import matplotlib.pyplot as plt\n",
    "with torch.no_grad():\n",
    "    probs = F.softmax(logits, dim=-1)  # Final softmax\n",
    "    blended = probs @ palette          # Final color\n",
    "\n",
    "    plt.imshow(blended.view(1, 1, 3).numpy())\n",
    "    plt.title(f\"Final Color — probs={probs.numpy().round(2)}\")\n",
    "    plt.axis('off')\n",
    "    plt.show()\n"
   ]
  },
  {
   "cell_type": "markdown",
   "id": "1a6b0f79",
   "metadata": {},
   "source": [
    "#### *Even though we’re choosing among discrete options (RGB), Gumbel-Softmax lets the model learn differentiably by softly blending probabilities.*"
   ]
  },
  {
   "cell_type": "markdown",
   "id": "c9853b68",
   "metadata": {},
   "source": [
    "Some reading material: [Arxiv Link](https://arxiv.org/pdf/1611.01144)"
   ]
  }
 ],
 "metadata": {
  "kernelspec": {
   "display_name": "scholarchatbot",
   "language": "python",
   "name": "python3"
  },
  "language_info": {
   "codemirror_mode": {
    "name": "ipython",
    "version": 3
   },
   "file_extension": ".py",
   "mimetype": "text/x-python",
   "name": "python",
   "nbconvert_exporter": "python",
   "pygments_lexer": "ipython3",
   "version": "3.10.2"
  }
 },
 "nbformat": 4,
 "nbformat_minor": 5
}
