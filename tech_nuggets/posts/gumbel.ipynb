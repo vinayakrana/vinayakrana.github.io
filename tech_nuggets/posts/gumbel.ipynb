{
 "cells": [
  {
   "cell_type": "markdown",
   "id": "33495c40",
   "metadata": {},
   "source": [
    "---\n",
    "title: \"Gumbel Softmax trick\"\n",
    "description: \"A trick to enable gradient-based optimization over discrete choices.\"\n",
    "date: 2025-07-04\n",
    "categories: [deep learning, differentiable programming, reparameterization]\n",
    "format: html\n",
    "execute: \n",
    "  enabled: True\n",
    "---"
   ]
  },
  {
   "cell_type": "markdown",
   "id": "3639c56f",
   "metadata": {},
   "source": [
    "#### Can You Backprop Through a Discrete Choice?\n",
    "Suppose your model must choose one of several categories say, Red, Green, or Blue.\n",
    "\n",
    "You use `argmax` or sample from a categorical distribution.\n",
    "But then how do you backpropagate?\n",
    "\n",
    "#### Answer: You can’t.\n",
    "But you can cheat slightly and still train using the Gumbel-Softmax trick."
   ]
  },
  {
   "cell_type": "markdown",
   "id": "bc3b95cc",
   "metadata": {},
   "source": [
    "#### The Problem: argmax Breaks Gradients"
   ]
  },
  {
   "cell_type": "markdown",
   "id": "f37291f4",
   "metadata": {},
   "source": [
    "```python\n",
    "import torch\n",
    "import torch.nn.functional as F\n",
    "\n",
    "logits = torch.tensor([[2.0, 1.0, 0.1]], requires_grad=True)\n",
    "probs = F.softmax(logits, dim=-1)\n",
    "sample = torch.argmax(probs, dim=-1)\n",
    "\n",
    "loss = sample.float().sum()\n",
    "loss.backward()  #  Throws an error\n",
    "```"
   ]
  },
  {
   "cell_type": "markdown",
   "id": "0742f12c",
   "metadata": {},
   "source": [
    "### 🧙‍♂️ The Magic Behind Gumbel-Softmax"
   ]
  },
  {
   "cell_type": "markdown",
   "id": "8924d96a",
   "metadata": {},
   "source": [
    "Okay, you want your model to pick one option out of many. But you still want to train it with backprop?\n",
    "\n",
    "Most people try this:\n",
    "\n",
    "```python\n",
    "choice = torch.argmax(logits, dim=-1)  # ❌ Not differentiable\n",
    "```"
   ]
  },
  {
   "cell_type": "markdown",
   "id": "a941631f",
   "metadata": {},
   "source": [
    "##### Boom. Backprop dies.\n",
    "Gradients have no idea how to flow through that hard decision.\n",
    "\n",
    "*So what if instead of a hard choice we pretend to choose using a soft, trainable mask?*\n",
    "\n",
    "That’s exactly what the Gumbel-Softmax trick does."
   ]
  },
  {
   "cell_type": "code",
   "execution_count": 1,
   "id": "6533520d",
   "metadata": {},
   "outputs": [],
   "source": [
    "import torch\n",
    "import torch.nn.functional as F\n",
    "\n",
    "def sample_gumbel(shape, eps=1e-20):\n",
    "    U = torch.rand(shape)\n",
    "    return -torch.log(-torch.log(U + eps) + eps)\n",
    "\n",
    "def gumbel_softmax(logits, tau=1.0):\n",
    "    g = sample_gumbel(logits.shape)\n",
    "    return F.softmax((logits + g) / tau, dim=-1)\n"
   ]
  },
  {
   "cell_type": "markdown",
   "id": "e502c15f",
   "metadata": {},
   "source": [
    "* logits are your unnormalized preferences\n",
    "\n",
    "* g is random Gumbel noise added to shake things up\n",
    "\n",
    "* tau is the temperature, controls how sharp or soft the final decision is\n",
    "\n",
    "* Softmax turns the noisy preferences into a smooth probability vector"
   ]
  },
  {
   "cell_type": "markdown",
   "id": "1b35782d",
   "metadata": {},
   "source": [
    "As tau → 0\n",
    "The softmax becomes sharper, and the output becomes almost one-hot like a discrete decision!"
   ]
  },
  {
   "cell_type": "markdown",
   "id": "4f3b020a",
   "metadata": {},
   "source": [
    "**Visual Example:** Learn to Blend Colors\n",
    "Let’s say your model needs to pick one color — Red, Green, or Blue — to match a target color (like purple 💜).\n",
    "\n",
    "But instead of making a hard choice, it learns to blend the colors using Gumbel-Softmax."
   ]
  },
  {
   "cell_type": "code",
   "execution_count": 2,
   "id": "6d256703",
   "metadata": {},
   "outputs": [],
   "source": [
    "import torch\n",
    "# Our palette\n",
    "palette = torch.tensor([\n",
    "    [1.0, 0.0, 0.0],  # Red\n",
    "    [0.0, 1.0, 0.0],  # Green\n",
    "    [0.0, 0.0, 1.0]   # Blue\n",
    "])\n",
    "\n",
    "# Trainable selection logits\n",
    "logits = torch.nn.Parameter(torch.randn(1, 3))\n",
    "\n",
    "# Our target is purple (red + blue)\n",
    "target = torch.tensor([[0.5, 0.0, 0.5]])\n",
    "\n",
    "opt = torch.optim.Adam([logits], lr=0.1)\n"
   ]
  },
  {
   "cell_type": "code",
   "execution_count": 3,
   "id": "522b8cea",
   "metadata": {},
   "outputs": [
    {
     "name": "stdout",
     "output_type": "stream",
     "text": [
      "Step 0: Loss = 0.0004\n",
      "Step 10: Loss = 0.1203\n",
      "Step 20: Loss = 0.1596\n",
      "Step 30: Loss = 0.1646\n",
      "Step 40: Loss = 0.1624\n",
      "Step 50: Loss = 0.0030\n",
      "Step 60: Loss = 0.1530\n",
      "Step 70: Loss = 0.1413\n",
      "Step 80: Loss = 0.1666\n",
      "Step 90: Loss = 0.0225\n"
     ]
    }
   ],
   "source": [
    "losses = []\n",
    "\n",
    "for step in range(100):\n",
    "    opt.zero_grad()\n",
    "    probs = gumbel_softmax(logits, tau=0.5)\n",
    "    color = probs @ palette  # Weighted blend\n",
    "    loss = F.mse_loss(color, target)\n",
    "    losses.append(loss.item())\n",
    "    loss.backward()\n",
    "    opt.step()\n",
    "\n",
    "    if step % 10 == 0:\n",
    "        print(f\"Step {step}: Loss = {loss.item():.4f}\")\n"
   ]
  },
  {
   "cell_type": "code",
   "execution_count": 4,
   "id": "6c7501a7",
   "metadata": {},
   "outputs": [
    {
     "data": {
      "image/png": "[encoded data removed]",
      "text/plain": [
       "<Figure size 672x480 with 1 Axes>"
      ]
     },
     "metadata": {
      "image/png": {
       "height": 408,
       "width": 388
      }
     },
     "output_type": "display_data"
    }
   ],
   "source": [
    "import matplotlib.pyplot as plt\n",
    "with torch.no_grad():\n",
    "    probs = F.softmax(logits, dim=-1)\n",
    "    blended = probs @ palette\n",
    "\n",
    "    plt.imshow(blended.view(1, 1, 3).numpy())\n",
    "    plt.title(f\"Final Color — probs={probs.numpy().round(2)}\")\n",
    "    plt.axis('off')\n",
    "    plt.show()\n"
   ]
  },
  {
   "cell_type": "markdown",
   "id": "1a6b0f79",
   "metadata": {},
   "source": [
    "#### **Boom!** The model learns a soft mix of red and blue to match the purple target.\n",
    "\n",
    "#### *Even though it’s choosing among discrete categories, it’s doing it in a way that’s smooth and differentiable.*"
   ]
  },
  {
   "cell_type": "markdown",
   "id": "c9853b68",
   "metadata": {},
   "source": [
    "Some reading material: [Arxiv Link](https://arxiv.org/pdf/1611.01144)"
   ]
  }
 ],
 "metadata": {
  "kernelspec": {
   "display_name": "scholarchatbot",
   "language": "python",
   "name": "python3"
  },
  "language_info": {
   "codemirror_mode": {
    "name": "ipython",
    "version": 3
   },
   "file_extension": ".py",
   "mimetype": "text/x-python",
   "name": "python",
   "nbconvert_exporter": "python",
   "pygments_lexer": "ipython3",
   "version": "3.10.18"
  }
 },
 "nbformat": 4,
 "nbformat_minor": 5
}
